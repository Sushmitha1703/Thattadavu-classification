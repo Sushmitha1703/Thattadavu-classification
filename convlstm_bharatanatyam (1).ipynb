{
  "nbformat": 4,
  "nbformat_minor": 0,
  "metadata": {
    "colab": {
      "provenance": [],
      "gpuType": "T4"
    },
    "kernelspec": {
      "name": "python3",
      "display_name": "Python 3"
    },
    "language_info": {
      "name": "python"
    },
    "accelerator": "GPU"
  },
  "cells": [
    {
      "cell_type": "code",
      "execution_count": null,
      "metadata": {
        "colab": {
          "base_uri": "https://localhost:8080/"
        },
        "id": "keS0cF8AlcmP",
        "outputId": "76f78475-e2f4-4e52-ca88-9b0564e934f7"
      },
      "outputs": [
        {
          "output_type": "stream",
          "name": "stdout",
          "text": [
            "Mounted at /content/drive\n"
          ]
        }
      ],
      "source": [
        "from google.colab import drive\n",
        "drive.mount('/content/drive')"
      ]
    },
    {
      "cell_type": "code",
      "source": [
        "root_folder = '/content/drive/MyDrive/dance'"
      ],
      "metadata": {
        "id": "pHJKUXogle_U"
      },
      "execution_count": null,
      "outputs": []
    },
    {
      "cell_type": "code",
      "source": [
        "import os\n",
        "subfolder_name = 'bharatnatyam'\n",
        "subfolder_path = os.path.join(root_folder, subfolder_name)"
      ],
      "metadata": {
        "id": "w0zvPUMsm9Ng"
      },
      "execution_count": null,
      "outputs": []
    },
    {
      "cell_type": "code",
      "source": [
        "import os\n",
        "\n",
        "data = []  # To store video file paths\n",
        "labels = []  # To store class labels\n",
        "\n",
        "# Iterate through class subfolders\n",
        "for class_name in os.listdir(subfolder_path):\n",
        "    class_folder = os.path.join(subfolder_path, class_name)\n",
        "\n",
        "    # Check if it's a directory\n",
        "    if os.path.isdir(class_folder):\n",
        "        # Iterate through video files in the class folder\n",
        "        for video_file in os.listdir(class_folder):\n",
        "            if video_file.endswith(\".mp4\"):  # Assuming your videos have .mp4 extension\n",
        "                video_path = os.path.join(class_folder, video_file)\n",
        "                data.append(video_path)\n",
        "                labels.append(class_name)"
      ],
      "metadata": {
        "id": "3u_r4SSlm_h3"
      },
      "execution_count": null,
      "outputs": []
    },
    {
      "cell_type": "code",
      "source": [
        "from sklearn.utils import shuffle\n",
        "data, labels = shuffle(data, labels, random_state=42)"
      ],
      "metadata": {
        "id": "OtixObAYnD6m"
      },
      "execution_count": null,
      "outputs": []
    },
    {
      "cell_type": "code",
      "source": [
        "data"
      ],
      "metadata": {
        "colab": {
          "base_uri": "https://localhost:8080/"
        },
        "id": "z2PnQbnsnG4G",
        "outputId": "359e2820-745d-4198-a549-f27739e6d83a"
      },
      "execution_count": null,
      "outputs": [
        {
          "output_type": "execute_result",
          "data": {
            "text/plain": [
              "['/content/drive/MyDrive/dance/bharatnatyam/t2/9th link - Trim_2 - Trim1.mp4',\n",
              " '/content/drive/MyDrive/dance/bharatnatyam/t5/9th link - Trim_5.mp4',\n",
              " '/content/drive/MyDrive/dance/bharatnatyam/t3/9th link - Trim_3 - Trim3.mp4',\n",
              " '/content/drive/MyDrive/dance/bharatnatyam/t2/9th link - Trim_2 - Trim2.mp4',\n",
              " '/content/drive/MyDrive/dance/bharatnatyam/t4/11th link - Trim3.mp4',\n",
              " '/content/drive/MyDrive/dance/bharatnatyam/t3/11th link - Trim3.mp4',\n",
              " '/content/drive/MyDrive/dance/bharatnatyam/t4/9th link - Trim_4 - Trim1.mp4',\n",
              " '/content/drive/MyDrive/dance/bharatnatyam/t1/9th link - Trim_1 - Trim1.mp4',\n",
              " '/content/drive/MyDrive/dance/bharatnatyam/t5/10th link - Trim1.mp4',\n",
              " '/content/drive/MyDrive/dance/bharatnatyam/t4/9th link - Trim_4 - Trim3.mp4',\n",
              " '/content/drive/MyDrive/dance/bharatnatyam/t7/9th link - Trim_7.mp4',\n",
              " '/content/drive/MyDrive/dance/bharatnatyam/t2/10th link - Trim1.mp4',\n",
              " '/content/drive/MyDrive/dance/bharatnatyam/t8/11th link - Trim2.mp4',\n",
              " '/content/drive/MyDrive/dance/bharatnatyam/t2/10th link - Trim3.mp4',\n",
              " '/content/drive/MyDrive/dance/bharatnatyam/t8/11th link - Trim3.mp4',\n",
              " '/content/drive/MyDrive/dance/bharatnatyam/t6/10th link - Trim3.mp4',\n",
              " '/content/drive/MyDrive/dance/bharatnatyam/t1/10th link - Trim1.mp4',\n",
              " '/content/drive/MyDrive/dance/bharatnatyam/t8/9th link - Trim_8 - Trim2.mp4',\n",
              " '/content/drive/MyDrive/dance/bharatnatyam/t7/10th link - Trim3.mp4',\n",
              " '/content/drive/MyDrive/dance/bharatnatyam/t6/9th link - Trim_6 - Trim2.mp4',\n",
              " '/content/drive/MyDrive/dance/bharatnatyam/t4/9th link - Trim_4.mp4',\n",
              " '/content/drive/MyDrive/dance/bharatnatyam/t8/10th link - Trim2.mp4',\n",
              " '/content/drive/MyDrive/dance/bharatnatyam/t5/10th link - Trim2.mp4',\n",
              " '/content/drive/MyDrive/dance/bharatnatyam/t6/11th link - Trim2.mp4',\n",
              " '/content/drive/MyDrive/dance/bharatnatyam/t2/10th link - Trim2.mp4',\n",
              " '/content/drive/MyDrive/dance/bharatnatyam/t8/9th link - Trim_8 - Trim3.mp4',\n",
              " '/content/drive/MyDrive/dance/bharatnatyam/t6/9th link - Trim_6 - Trim3.mp4',\n",
              " '/content/drive/MyDrive/dance/bharatnatyam/t7/10th link - Trim2.mp4',\n",
              " '/content/drive/MyDrive/dance/bharatnatyam/t4/11th link - Trim1.mp4',\n",
              " '/content/drive/MyDrive/dance/bharatnatyam/t6/9th link - Trim_6.mp4',\n",
              " '/content/drive/MyDrive/dance/bharatnatyam/t7/11th link - Trim1.mp4',\n",
              " '/content/drive/MyDrive/dance/bharatnatyam/t1/11th link - Trim3.mp4',\n",
              " '/content/drive/MyDrive/dance/bharatnatyam/t5/11th link - Trim1.mp4',\n",
              " '/content/drive/MyDrive/dance/bharatnatyam/t7/9th link - Trim_7 - Trim1.mp4',\n",
              " '/content/drive/MyDrive/dance/bharatnatyam/t7/10th link - Trim1.mp4',\n",
              " '/content/drive/MyDrive/dance/bharatnatyam/t3/9th link - Trim_3.mp4',\n",
              " '/content/drive/MyDrive/dance/bharatnatyam/t8/11th link - Trim1.mp4',\n",
              " '/content/drive/MyDrive/dance/bharatnatyam/t3/10th link - Trim3.mp4',\n",
              " '/content/drive/MyDrive/dance/bharatnatyam/t6/10th link - Trim2.mp4',\n",
              " '/content/drive/MyDrive/dance/bharatnatyam/t4/10th link - Trim1.mp4',\n",
              " '/content/drive/MyDrive/dance/bharatnatyam/t1/10th link - Trim3.mp4',\n",
              " '/content/drive/MyDrive/dance/bharatnatyam/t5/9th link - Trim_5 - Trim3.mp4',\n",
              " '/content/drive/MyDrive/dance/bharatnatyam/t4/11th link - Trim2.mp4',\n",
              " '/content/drive/MyDrive/dance/bharatnatyam/t2/11th link - Trim3.mp4',\n",
              " '/content/drive/MyDrive/dance/bharatnatyam/t5/11th link - Trim2.mp4',\n",
              " '/content/drive/MyDrive/dance/bharatnatyam/t8/10th link - Trim3.mp4',\n",
              " '/content/drive/MyDrive/dance/bharatnatyam/t5/10th link - Trim3.mp4',\n",
              " '/content/drive/MyDrive/dance/bharatnatyam/t2/11th link - Trim1.mp4',\n",
              " '/content/drive/MyDrive/dance/bharatnatyam/t1/9th link - Trim_1 - Trim3.mp4',\n",
              " '/content/drive/MyDrive/dance/bharatnatyam/t7/11th link - Trim3.mp4',\n",
              " '/content/drive/MyDrive/dance/bharatnatyam/t6/11th link - Trim1.mp4',\n",
              " '/content/drive/MyDrive/dance/bharatnatyam/t1/11th link - Trim2.mp4',\n",
              " '/content/drive/MyDrive/dance/bharatnatyam/t4/10th link - Trim3.mp4',\n",
              " '/content/drive/MyDrive/dance/bharatnatyam/t3/11th link - Trim2.mp4',\n",
              " '/content/drive/MyDrive/dance/bharatnatyam/t6/9th link - Trim_6 - Trim1.mp4',\n",
              " '/content/drive/MyDrive/dance/bharatnatyam/t3/11th link - Trim1.mp4',\n",
              " '/content/drive/MyDrive/dance/bharatnatyam/t6/11th link - Trim2 .mp4',\n",
              " '/content/drive/MyDrive/dance/bharatnatyam/t3/10th link - Trim2.mp4',\n",
              " '/content/drive/MyDrive/dance/bharatnatyam/t6/10th link - Trim1.mp4',\n",
              " '/content/drive/MyDrive/dance/bharatnatyam/t1/11th link - Trim1.mp4',\n",
              " '/content/drive/MyDrive/dance/bharatnatyam/t7/11th link - Trim2.mp4',\n",
              " '/content/drive/MyDrive/dance/bharatnatyam/t4/9th link - Trim_4 - Trim2.mp4',\n",
              " '/content/drive/MyDrive/dance/bharatnatyam/t2/9th link - Trim_2 - Trim3.mp4',\n",
              " '/content/drive/MyDrive/dance/bharatnatyam/t1/10th link - Trim2.mp4',\n",
              " '/content/drive/MyDrive/dance/bharatnatyam/t8/9th link - Trim_8.mp4',\n",
              " '/content/drive/MyDrive/dance/bharatnatyam/t8/10th link - Trim1.mp4',\n",
              " '/content/drive/MyDrive/dance/bharatnatyam/t1/9th link - Trim_1.mp4',\n",
              " '/content/drive/MyDrive/dance/bharatnatyam/t2/11th link - Trim2.mp4',\n",
              " '/content/drive/MyDrive/dance/bharatnatyam/t2/9th link - Trim_2.mp4',\n",
              " '/content/drive/MyDrive/dance/bharatnatyam/t5/9th link - Trim_5 - Trim1.mp4',\n",
              " '/content/drive/MyDrive/dance/bharatnatyam/t7/9th link - Trim_7 - Trim3.mp4',\n",
              " '/content/drive/MyDrive/dance/bharatnatyam/t3/9th link - Trim_3 - Trim2.mp4',\n",
              " '/content/drive/MyDrive/dance/bharatnatyam/t5/9th link - Trim_5 - Trim2.mp4',\n",
              " '/content/drive/MyDrive/dance/bharatnatyam/t3/10th link - Trim1.mp4',\n",
              " '/content/drive/MyDrive/dance/bharatnatyam/t3/9th link - Trim_3 - Trim1.mp4',\n",
              " '/content/drive/MyDrive/dance/bharatnatyam/t8/9th link - Trim_8 - Trim1.mp4',\n",
              " '/content/drive/MyDrive/dance/bharatnatyam/t1/9th link - Trim_1 - Trim2.mp4',\n",
              " '/content/drive/MyDrive/dance/bharatnatyam/t4/10th link - Trim2.mp4',\n",
              " '/content/drive/MyDrive/dance/bharatnatyam/t7/9th link - Trim_7 - Trim2.mp4']"
            ]
          },
          "metadata": {},
          "execution_count": 6
        }
      ]
    },
    {
      "cell_type": "code",
      "source": [
        "import pandas as pd\n",
        "df = pd.DataFrame({'Data': data, 'Labels': labels})"
      ],
      "metadata": {
        "id": "YIGcNZklnJIm"
      },
      "execution_count": null,
      "outputs": []
    },
    {
      "cell_type": "code",
      "source": [
        "df"
      ],
      "metadata": {
        "colab": {
          "base_uri": "https://localhost:8080/",
          "height": 423
        },
        "id": "bSsSY-B_nMdH",
        "outputId": "eac9d0bf-3db8-44ac-e614-8a6600cfbc3d"
      },
      "execution_count": null,
      "outputs": [
        {
          "output_type": "execute_result",
          "data": {
            "text/plain": [
              "                                                 Data Labels\n",
              "0   /content/drive/MyDrive/dance/bharatnatyam/t2/9...     t2\n",
              "1   /content/drive/MyDrive/dance/bharatnatyam/t5/9...     t5\n",
              "2   /content/drive/MyDrive/dance/bharatnatyam/t3/9...     t3\n",
              "3   /content/drive/MyDrive/dance/bharatnatyam/t2/9...     t2\n",
              "4   /content/drive/MyDrive/dance/bharatnatyam/t4/1...     t4\n",
              "..                                                ...    ...\n",
              "74  /content/drive/MyDrive/dance/bharatnatyam/t3/9...     t3\n",
              "75  /content/drive/MyDrive/dance/bharatnatyam/t8/9...     t8\n",
              "76  /content/drive/MyDrive/dance/bharatnatyam/t1/9...     t1\n",
              "77  /content/drive/MyDrive/dance/bharatnatyam/t4/1...     t4\n",
              "78  /content/drive/MyDrive/dance/bharatnatyam/t7/9...     t7\n",
              "\n",
              "[79 rows x 2 columns]"
            ],
            "text/html": [
              "\n",
              "  <div id=\"df-3321387c-4746-4442-98e2-1517b663c116\" class=\"colab-df-container\">\n",
              "    <div>\n",
              "<style scoped>\n",
              "    .dataframe tbody tr th:only-of-type {\n",
              "        vertical-align: middle;\n",
              "    }\n",
              "\n",
              "    .dataframe tbody tr th {\n",
              "        vertical-align: top;\n",
              "    }\n",
              "\n",
              "    .dataframe thead th {\n",
              "        text-align: right;\n",
              "    }\n",
              "</style>\n",
              "<table border=\"1\" class=\"dataframe\">\n",
              "  <thead>\n",
              "    <tr style=\"text-align: right;\">\n",
              "      <th></th>\n",
              "      <th>Data</th>\n",
              "      <th>Labels</th>\n",
              "    </tr>\n",
              "  </thead>\n",
              "  <tbody>\n",
              "    <tr>\n",
              "      <th>0</th>\n",
              "      <td>/content/drive/MyDrive/dance/bharatnatyam/t2/9...</td>\n",
              "      <td>t2</td>\n",
              "    </tr>\n",
              "    <tr>\n",
              "      <th>1</th>\n",
              "      <td>/content/drive/MyDrive/dance/bharatnatyam/t5/9...</td>\n",
              "      <td>t5</td>\n",
              "    </tr>\n",
              "    <tr>\n",
              "      <th>2</th>\n",
              "      <td>/content/drive/MyDrive/dance/bharatnatyam/t3/9...</td>\n",
              "      <td>t3</td>\n",
              "    </tr>\n",
              "    <tr>\n",
              "      <th>3</th>\n",
              "      <td>/content/drive/MyDrive/dance/bharatnatyam/t2/9...</td>\n",
              "      <td>t2</td>\n",
              "    </tr>\n",
              "    <tr>\n",
              "      <th>4</th>\n",
              "      <td>/content/drive/MyDrive/dance/bharatnatyam/t4/1...</td>\n",
              "      <td>t4</td>\n",
              "    </tr>\n",
              "    <tr>\n",
              "      <th>...</th>\n",
              "      <td>...</td>\n",
              "      <td>...</td>\n",
              "    </tr>\n",
              "    <tr>\n",
              "      <th>74</th>\n",
              "      <td>/content/drive/MyDrive/dance/bharatnatyam/t3/9...</td>\n",
              "      <td>t3</td>\n",
              "    </tr>\n",
              "    <tr>\n",
              "      <th>75</th>\n",
              "      <td>/content/drive/MyDrive/dance/bharatnatyam/t8/9...</td>\n",
              "      <td>t8</td>\n",
              "    </tr>\n",
              "    <tr>\n",
              "      <th>76</th>\n",
              "      <td>/content/drive/MyDrive/dance/bharatnatyam/t1/9...</td>\n",
              "      <td>t1</td>\n",
              "    </tr>\n",
              "    <tr>\n",
              "      <th>77</th>\n",
              "      <td>/content/drive/MyDrive/dance/bharatnatyam/t4/1...</td>\n",
              "      <td>t4</td>\n",
              "    </tr>\n",
              "    <tr>\n",
              "      <th>78</th>\n",
              "      <td>/content/drive/MyDrive/dance/bharatnatyam/t7/9...</td>\n",
              "      <td>t7</td>\n",
              "    </tr>\n",
              "  </tbody>\n",
              "</table>\n",
              "<p>79 rows × 2 columns</p>\n",
              "</div>\n",
              "    <div class=\"colab-df-buttons\">\n",
              "\n",
              "  <div class=\"colab-df-container\">\n",
              "    <button class=\"colab-df-convert\" onclick=\"convertToInteractive('df-3321387c-4746-4442-98e2-1517b663c116')\"\n",
              "            title=\"Convert this dataframe to an interactive table.\"\n",
              "            style=\"display:none;\">\n",
              "\n",
              "  <svg xmlns=\"http://www.w3.org/2000/svg\" height=\"24px\" viewBox=\"0 -960 960 960\">\n",
              "    <path d=\"M120-120v-720h720v720H120Zm60-500h600v-160H180v160Zm220 220h160v-160H400v160Zm0 220h160v-160H400v160ZM180-400h160v-160H180v160Zm440 0h160v-160H620v160ZM180-180h160v-160H180v160Zm440 0h160v-160H620v160Z\"/>\n",
              "  </svg>\n",
              "    </button>\n",
              "\n",
              "  <style>\n",
              "    .colab-df-container {\n",
              "      display:flex;\n",
              "      gap: 12px;\n",
              "    }\n",
              "\n",
              "    .colab-df-convert {\n",
              "      background-color: #E8F0FE;\n",
              "      border: none;\n",
              "      border-radius: 50%;\n",
              "      cursor: pointer;\n",
              "      display: none;\n",
              "      fill: #1967D2;\n",
              "      height: 32px;\n",
              "      padding: 0 0 0 0;\n",
              "      width: 32px;\n",
              "    }\n",
              "\n",
              "    .colab-df-convert:hover {\n",
              "      background-color: #E2EBFA;\n",
              "      box-shadow: 0px 1px 2px rgba(60, 64, 67, 0.3), 0px 1px 3px 1px rgba(60, 64, 67, 0.15);\n",
              "      fill: #174EA6;\n",
              "    }\n",
              "\n",
              "    .colab-df-buttons div {\n",
              "      margin-bottom: 4px;\n",
              "    }\n",
              "\n",
              "    [theme=dark] .colab-df-convert {\n",
              "      background-color: #3B4455;\n",
              "      fill: #D2E3FC;\n",
              "    }\n",
              "\n",
              "    [theme=dark] .colab-df-convert:hover {\n",
              "      background-color: #434B5C;\n",
              "      box-shadow: 0px 1px 3px 1px rgba(0, 0, 0, 0.15);\n",
              "      filter: drop-shadow(0px 1px 2px rgba(0, 0, 0, 0.3));\n",
              "      fill: #FFFFFF;\n",
              "    }\n",
              "  </style>\n",
              "\n",
              "    <script>\n",
              "      const buttonEl =\n",
              "        document.querySelector('#df-3321387c-4746-4442-98e2-1517b663c116 button.colab-df-convert');\n",
              "      buttonEl.style.display =\n",
              "        google.colab.kernel.accessAllowed ? 'block' : 'none';\n",
              "\n",
              "      async function convertToInteractive(key) {\n",
              "        const element = document.querySelector('#df-3321387c-4746-4442-98e2-1517b663c116');\n",
              "        const dataTable =\n",
              "          await google.colab.kernel.invokeFunction('convertToInteractive',\n",
              "                                                    [key], {});\n",
              "        if (!dataTable) return;\n",
              "\n",
              "        const docLinkHtml = 'Like what you see? Visit the ' +\n",
              "          '<a target=\"_blank\" href=https://colab.research.google.com/notebooks/data_table.ipynb>data table notebook</a>'\n",
              "          + ' to learn more about interactive tables.';\n",
              "        element.innerHTML = '';\n",
              "        dataTable['output_type'] = 'display_data';\n",
              "        await google.colab.output.renderOutput(dataTable, element);\n",
              "        const docLink = document.createElement('div');\n",
              "        docLink.innerHTML = docLinkHtml;\n",
              "        element.appendChild(docLink);\n",
              "      }\n",
              "    </script>\n",
              "  </div>\n",
              "\n",
              "\n",
              "<div id=\"df-52bc2843-0cce-44de-9af0-80e2a907cf81\">\n",
              "  <button class=\"colab-df-quickchart\" onclick=\"quickchart('df-52bc2843-0cce-44de-9af0-80e2a907cf81')\"\n",
              "            title=\"Suggest charts.\"\n",
              "            style=\"display:none;\">\n",
              "\n",
              "<svg xmlns=\"http://www.w3.org/2000/svg\" height=\"24px\"viewBox=\"0 0 24 24\"\n",
              "     width=\"24px\">\n",
              "    <g>\n",
              "        <path d=\"M19 3H5c-1.1 0-2 .9-2 2v14c0 1.1.9 2 2 2h14c1.1 0 2-.9 2-2V5c0-1.1-.9-2-2-2zM9 17H7v-7h2v7zm4 0h-2V7h2v10zm4 0h-2v-4h2v4z\"/>\n",
              "    </g>\n",
              "</svg>\n",
              "  </button>\n",
              "\n",
              "<style>\n",
              "  .colab-df-quickchart {\n",
              "      --bg-color: #E8F0FE;\n",
              "      --fill-color: #1967D2;\n",
              "      --hover-bg-color: #E2EBFA;\n",
              "      --hover-fill-color: #174EA6;\n",
              "      --disabled-fill-color: #AAA;\n",
              "      --disabled-bg-color: #DDD;\n",
              "  }\n",
              "\n",
              "  [theme=dark] .colab-df-quickchart {\n",
              "      --bg-color: #3B4455;\n",
              "      --fill-color: #D2E3FC;\n",
              "      --hover-bg-color: #434B5C;\n",
              "      --hover-fill-color: #FFFFFF;\n",
              "      --disabled-bg-color: #3B4455;\n",
              "      --disabled-fill-color: #666;\n",
              "  }\n",
              "\n",
              "  .colab-df-quickchart {\n",
              "    background-color: var(--bg-color);\n",
              "    border: none;\n",
              "    border-radius: 50%;\n",
              "    cursor: pointer;\n",
              "    display: none;\n",
              "    fill: var(--fill-color);\n",
              "    height: 32px;\n",
              "    padding: 0;\n",
              "    width: 32px;\n",
              "  }\n",
              "\n",
              "  .colab-df-quickchart:hover {\n",
              "    background-color: var(--hover-bg-color);\n",
              "    box-shadow: 0 1px 2px rgba(60, 64, 67, 0.3), 0 1px 3px 1px rgba(60, 64, 67, 0.15);\n",
              "    fill: var(--button-hover-fill-color);\n",
              "  }\n",
              "\n",
              "  .colab-df-quickchart-complete:disabled,\n",
              "  .colab-df-quickchart-complete:disabled:hover {\n",
              "    background-color: var(--disabled-bg-color);\n",
              "    fill: var(--disabled-fill-color);\n",
              "    box-shadow: none;\n",
              "  }\n",
              "\n",
              "  .colab-df-spinner {\n",
              "    border: 2px solid var(--fill-color);\n",
              "    border-color: transparent;\n",
              "    border-bottom-color: var(--fill-color);\n",
              "    animation:\n",
              "      spin 1s steps(1) infinite;\n",
              "  }\n",
              "\n",
              "  @keyframes spin {\n",
              "    0% {\n",
              "      border-color: transparent;\n",
              "      border-bottom-color: var(--fill-color);\n",
              "      border-left-color: var(--fill-color);\n",
              "    }\n",
              "    20% {\n",
              "      border-color: transparent;\n",
              "      border-left-color: var(--fill-color);\n",
              "      border-top-color: var(--fill-color);\n",
              "    }\n",
              "    30% {\n",
              "      border-color: transparent;\n",
              "      border-left-color: var(--fill-color);\n",
              "      border-top-color: var(--fill-color);\n",
              "      border-right-color: var(--fill-color);\n",
              "    }\n",
              "    40% {\n",
              "      border-color: transparent;\n",
              "      border-right-color: var(--fill-color);\n",
              "      border-top-color: var(--fill-color);\n",
              "    }\n",
              "    60% {\n",
              "      border-color: transparent;\n",
              "      border-right-color: var(--fill-color);\n",
              "    }\n",
              "    80% {\n",
              "      border-color: transparent;\n",
              "      border-right-color: var(--fill-color);\n",
              "      border-bottom-color: var(--fill-color);\n",
              "    }\n",
              "    90% {\n",
              "      border-color: transparent;\n",
              "      border-bottom-color: var(--fill-color);\n",
              "    }\n",
              "  }\n",
              "</style>\n",
              "\n",
              "  <script>\n",
              "    async function quickchart(key) {\n",
              "      const quickchartButtonEl =\n",
              "        document.querySelector('#' + key + ' button');\n",
              "      quickchartButtonEl.disabled = true;  // To prevent multiple clicks.\n",
              "      quickchartButtonEl.classList.add('colab-df-spinner');\n",
              "      try {\n",
              "        const charts = await google.colab.kernel.invokeFunction(\n",
              "            'suggestCharts', [key], {});\n",
              "      } catch (error) {\n",
              "        console.error('Error during call to suggestCharts:', error);\n",
              "      }\n",
              "      quickchartButtonEl.classList.remove('colab-df-spinner');\n",
              "      quickchartButtonEl.classList.add('colab-df-quickchart-complete');\n",
              "    }\n",
              "    (() => {\n",
              "      let quickchartButtonEl =\n",
              "        document.querySelector('#df-52bc2843-0cce-44de-9af0-80e2a907cf81 button');\n",
              "      quickchartButtonEl.style.display =\n",
              "        google.colab.kernel.accessAllowed ? 'block' : 'none';\n",
              "    })();\n",
              "  </script>\n",
              "</div>\n",
              "    </div>\n",
              "  </div>\n"
            ]
          },
          "metadata": {},
          "execution_count": 8
        }
      ]
    },
    {
      "cell_type": "code",
      "source": [
        "from sklearn.model_selection import train_test_split\n",
        "from sklearn.metrics import *\n",
        "\n",
        "import cv2\n",
        "import matplotlib.pyplot as plt\n",
        "import random\n",
        "\n",
        "from tensorflow.keras.models import Sequential, load_model\n",
        "from tensorflow.keras.layers import Dense, Dropout, Flatten, InputLayer\n",
        "from tensorflow.keras.layers import Conv2D, MaxPooling2D\n",
        "from tensorflow.keras.utils import to_categorical\n",
        "from tensorflow.keras.layers import Dense, Dropout, Flatten, InputLayer, Conv2D, MaxPooling2D\n",
        "from tensorflow.keras.applications import VGG16\n",
        "from tensorflow.keras.layers import ConvLSTM2D, MaxPooling3D, TimeDistributed"
      ],
      "metadata": {
        "id": "Dbyr80uKnOzX"
      },
      "execution_count": null,
      "outputs": []
    },
    {
      "cell_type": "code",
      "source": [
        "video_directory = subfolder_path"
      ],
      "metadata": {
        "id": "ruSEr9gunVO_"
      },
      "execution_count": null,
      "outputs": []
    },
    {
      "cell_type": "code",
      "source": [
        "categories = ['t1','t2','t3','t4','t5','t6','t7','t8']"
      ],
      "metadata": {
        "id": "0B7UyjYHpmnI"
      },
      "execution_count": null,
      "outputs": []
    },
    {
      "cell_type": "code",
      "source": [
        "num_videos_per_category = 10"
      ],
      "metadata": {
        "id": "Xo_wZB7spyAf"
      },
      "execution_count": null,
      "outputs": []
    },
    {
      "cell_type": "code",
      "source": [
        "num_images_per_row = 4\n",
        "image_width = 80\n",
        "image_height = 80"
      ],
      "metadata": {
        "id": "KyYLf7lxp4qP"
      },
      "execution_count": null,
      "outputs": []
    },
    {
      "cell_type": "code",
      "source": [
        "for category in categories:\n",
        "    category_directory = os.path.join(video_directory, category)\n",
        "    videos = os.listdir(category_directory)"
      ],
      "metadata": {
        "id": "uwYO2tDMqCvI"
      },
      "execution_count": null,
      "outputs": []
    },
    {
      "cell_type": "code",
      "source": [
        " fig, axs = plt.subplots(1, num_images_per_row, figsize=(16, 4))"
      ],
      "metadata": {
        "colab": {
          "base_uri": "https://localhost:8080/",
          "height": 189
        },
        "id": "zG85NxWAqHUo",
        "outputId": "a1466f29-7c8b-4509-8aee-2528536babec"
      },
      "execution_count": null,
      "outputs": [
        {
          "output_type": "display_data",
          "data": {
            "text/plain": [
              "<Figure size 1600x400 with 4 Axes>"
            ],
            "image/png": "[encoded data removed]"
          },
          "metadata": {}
        }
      ]
    },
    {
      "cell_type": "code",
      "source": [
        "height , width = 64, 64\n",
        "SEQUENCE_LENGTH = 20\n",
        "DATASET_DIR = subfolder_path\n"
      ],
      "metadata": {
        "id": "VKjoWQdXqQOY"
      },
      "execution_count": null,
      "outputs": []
    },
    {
      "cell_type": "code",
      "source": [
        "import cv2\n",
        "\n",
        "def extraction_images(video_path):\n",
        "\n",
        "\n",
        "\n",
        "    frames_list = []\n",
        "\n",
        "    video_reader = cv2.VideoCapture(video_path)\n",
        "    video_frames_count = int(video_reader.get(cv2.CAP_PROP_FRAME_COUNT))\n",
        "\n",
        "    skip_frames_window = max(int(video_frames_count / SEQUENCE_LENGTH), 1)\n",
        "\n",
        "    for frame_counter in range(SEQUENCE_LENGTH):\n",
        "\n",
        "\n",
        "        video_reader.set(cv2.CAP_PROP_POS_FRAMES, frame_counter * skip_frames_window)\n",
        "\n",
        "\n",
        "        success, frame = video_reader.read()\n",
        "\n",
        "\n",
        "        if not success:\n",
        "            break\n",
        "\n",
        "\n",
        "        resized_frame = cv2.resize(frame, (width, height))\n",
        "\n",
        "\n",
        "        normalized_frame = resized_frame / 255\n",
        "\n",
        "\n",
        "        frames_list.append(normalized_frame)\n",
        "\n",
        "\n",
        "    video_reader.release()\n",
        "\n",
        "\n",
        "    return frames_list"
      ],
      "metadata": {
        "id": "cYjU0eqTqY-Q"
      },
      "execution_count": null,
      "outputs": []
    },
    {
      "cell_type": "code",
      "source": [
        "import numpy as np\n",
        "def create_dataset():\n",
        "\n",
        "\n",
        "\n",
        "    features = []\n",
        "    labels = []\n",
        "    video_files_paths = []\n",
        "\n",
        "\n",
        "    for class_index, class_name in enumerate(['t1','t2','t3','t4','t5','t6','t7','t8']):\n",
        "\n",
        "\n",
        "        print(f'Extracting class data : {class_name}')\n",
        "\n",
        "\n",
        "        files_list = os.listdir(os.path.join(DATASET_DIR, class_name))\n",
        "\n",
        "\n",
        "        for file_name in files_list:\n",
        "\n",
        "\n",
        "            video_file_path = os.path.join(DATASET_DIR, class_name, file_name)\n",
        "\n",
        "            images = extraction_images(video_file_path)\n",
        "\n",
        "\n",
        "            if len(images) == SEQUENCE_LENGTH:\n",
        "\n",
        "\n",
        "                features.append(images)\n",
        "                labels.append(class_index)\n",
        "                video_files_paths.append(video_file_path)\n",
        "\n",
        "\n",
        "    features = np.asarray(features)\n",
        "    labels = np.array(labels)\n",
        "\n",
        "\n",
        "    return features, labels, video_files_paths"
      ],
      "metadata": {
        "id": "hL0o8Cr3rQ44"
      },
      "execution_count": null,
      "outputs": []
    },
    {
      "cell_type": "code",
      "source": [
        "features, labels, video_files_paths = create_dataset()"
      ],
      "metadata": {
        "colab": {
          "base_uri": "https://localhost:8080/"
        },
        "id": "4jM3jK1tr69B",
        "outputId": "0b591a0b-dffe-407e-8da1-33d7a4e5c5e9"
      },
      "execution_count": null,
      "outputs": [
        {
          "output_type": "stream",
          "name": "stdout",
          "text": [
            "Extracting class data : t1\n",
            "Extracting class data : t2\n",
            "Extracting class data : t3\n",
            "Extracting class data : t4\n",
            "Extracting class data : t5\n",
            "Extracting class data : t6\n",
            "Extracting class data : t7\n",
            "Extracting class data : t8\n"
          ]
        }
      ]
    },
    {
      "cell_type": "code",
      "source": [
        "one_hot_encoded_labels = to_categorical(labels)"
      ],
      "metadata": {
        "id": "3IzEXFSGr9mY"
      },
      "execution_count": null,
      "outputs": []
    },
    {
      "cell_type": "code",
      "source": [
        "X_train, X_test, y_train, y_test = train_test_split(features, one_hot_encoded_labels, test_size = 0.25, shuffle = True)"
      ],
      "metadata": {
        "id": "thI15m5Ctyhw"
      },
      "execution_count": null,
      "outputs": []
    },
    {
      "cell_type": "code",
      "source": [
        "model = Sequential()\n",
        "\n",
        "\n",
        "model.add(ConvLSTM2D(filters = 4, kernel_size = (3, 3), activation = 'tanh',data_format = \"channels_last\",\n",
        "                     recurrent_dropout=0.2, return_sequences=True, input_shape = (SEQUENCE_LENGTH,\n",
        "                                                                                  height, width, 3)))\n",
        "\n",
        "model.add(MaxPooling3D(pool_size=(1, 2, 2), padding='same', data_format='channels_last'))\n",
        "model.add(TimeDistributed(Dropout(0.2)))\n",
        "\n",
        "model.add(ConvLSTM2D(filters = 8, kernel_size = (3, 3), activation = 'tanh', data_format = \"channels_last\",\n",
        "                     recurrent_dropout=0.2, return_sequences=True))\n",
        "\n",
        "model.add(MaxPooling3D(pool_size=(1, 2, 2), padding='same', data_format='channels_last'))\n",
        "model.add(TimeDistributed(Dropout(0.2)))\n",
        "\n",
        "model.add(ConvLSTM2D(filters = 14, kernel_size = (3, 3), activation = 'tanh', data_format = \"channels_last\",\n",
        "                     recurrent_dropout=0.2, return_sequences=True))\n",
        "\n",
        "model.add(MaxPooling3D(pool_size=(1, 2, 2), padding='same', data_format='channels_last'))\n",
        "model.add(TimeDistributed(Dropout(0.2)))\n",
        "\n",
        "model.add(ConvLSTM2D(filters = 16, kernel_size = (3, 3), activation = 'tanh', data_format = \"channels_last\",\n",
        "                     recurrent_dropout=0.2, return_sequences=True))\n",
        "\n",
        "model.add(MaxPooling3D(pool_size=(1, 2, 2), padding='same', data_format='channels_last'))\n",
        "\n",
        "model.add(Flatten())\n",
        "\n",
        "model.add(Dense(len(categories), activation = \"softmax\"))\n",
        "\n",
        "model.summary()"
      ],
      "metadata": {
        "colab": {
          "base_uri": "https://localhost:8080/"
        },
        "id": "_8muAeHXuLZA",
        "outputId": "f164a813-5fe3-45ae-da85-08a835fcf32e"
      },
      "execution_count": null,
      "outputs": [
        {
          "output_type": "stream",
          "name": "stdout",
          "text": [
            "Model: \"sequential\"\n",
            "_________________________________________________________________\n",
            " Layer (type)                Output Shape              Param #   \n",
            "=================================================================\n",
            " conv_lstm2d (ConvLSTM2D)    (None, 20, 62, 62, 4)     1024      \n",
            "                                                                 \n",
            " max_pooling3d (MaxPooling3  (None, 20, 31, 31, 4)     0         \n",
            " D)                                                              \n",
            "                                                                 \n",
            " time_distributed (TimeDist  (None, 20, 31, 31, 4)     0         \n",
            " ributed)                                                        \n",
            "                                                                 \n",
            " conv_lstm2d_1 (ConvLSTM2D)  (None, 20, 29, 29, 8)     3488      \n",
            "                                                                 \n",
            " max_pooling3d_1 (MaxPoolin  (None, 20, 15, 15, 8)     0         \n",
            " g3D)                                                            \n",
            "                                                                 \n",
            " time_distributed_1 (TimeDi  (None, 20, 15, 15, 8)     0         \n",
            " stributed)                                                      \n",
            "                                                                 \n",
            " conv_lstm2d_2 (ConvLSTM2D)  (None, 20, 13, 13, 14)    11144     \n",
            "                                                                 \n",
            " max_pooling3d_2 (MaxPoolin  (None, 20, 7, 7, 14)      0         \n",
            " g3D)                                                            \n",
            "                                                                 \n",
            " time_distributed_2 (TimeDi  (None, 20, 7, 7, 14)      0         \n",
            " stributed)                                                      \n",
            "                                                                 \n",
            " conv_lstm2d_3 (ConvLSTM2D)  (None, 20, 5, 5, 16)      17344     \n",
            "                                                                 \n",
            " max_pooling3d_3 (MaxPoolin  (None, 20, 3, 3, 16)      0         \n",
            " g3D)                                                            \n",
            "                                                                 \n",
            " flatten (Flatten)           (None, 2880)              0         \n",
            "                                                                 \n",
            " dense (Dense)               (None, 8)                 23048     \n",
            "                                                                 \n",
            "=================================================================\n",
            "Total params: 56048 (218.94 KB)\n",
            "Trainable params: 56048 (218.94 KB)\n",
            "Non-trainable params: 0 (0.00 Byte)\n",
            "_________________________________________________________________\n"
          ]
        }
      ]
    },
    {
      "cell_type": "code",
      "source": [
        "model.compile(loss = 'categorical_crossentropy', optimizer = 'Adam', metrics = [\"accuracy\"])\n",
        "histo_fit = model.fit(X_train, y_train, validation_data=(X_test, y_test), epochs = 50, verbose=1)"
      ],
      "metadata": {
        "colab": {
          "base_uri": "https://localhost:8080/"
        },
        "id": "jaPS0CcwvIzw",
        "outputId": "c232b47f-e72a-410a-b174-305ee8366fa5"
      },
      "execution_count": null,
      "outputs": [
        {
          "output_type": "stream",
          "name": "stdout",
          "text": [
            "Epoch 1/50\n",
            "2/2 [==============================] - 26s 2s/step - loss: 2.0816 - accuracy: 0.0526 - val_loss: 2.0892 - val_accuracy: 0.0500\n",
            "Epoch 2/50\n",
            "2/2 [==============================] - 1s 746ms/step - loss: 2.0771 - accuracy: 0.1579 - val_loss: 2.0944 - val_accuracy: 0.0500\n",
            "Epoch 3/50\n",
            "2/2 [==============================] - 2s 1s/step - loss: 2.0708 - accuracy: 0.1754 - val_loss: 2.1055 - val_accuracy: 0.0500\n",
            "Epoch 4/50\n",
            "2/2 [==============================] - 2s 598ms/step - loss: 2.0679 - accuracy: 0.1579 - val_loss: 2.1274 - val_accuracy: 0.0500\n",
            "Epoch 5/50\n",
            "2/2 [==============================] - 1s 542ms/step - loss: 2.0646 - accuracy: 0.1579 - val_loss: 2.1515 - val_accuracy: 0.0500\n",
            "Epoch 6/50\n",
            "2/2 [==============================] - 1s 537ms/step - loss: 2.0622 - accuracy: 0.1579 - val_loss: 2.1421 - val_accuracy: 0.0500\n",
            "Epoch 7/50\n",
            "2/2 [==============================] - 1s 572ms/step - loss: 2.0595 - accuracy: 0.1579 - val_loss: 2.1481 - val_accuracy: 0.0500\n",
            "Epoch 8/50\n",
            "2/2 [==============================] - 1s 529ms/step - loss: 2.0571 - accuracy: 0.1579 - val_loss: 2.1495 - val_accuracy: 0.0500\n",
            "Epoch 9/50\n",
            "2/2 [==============================] - 1s 537ms/step - loss: 2.0477 - accuracy: 0.1930 - val_loss: 2.1411 - val_accuracy: 0.1000\n",
            "Epoch 10/50\n",
            "2/2 [==============================] - 1s 555ms/step - loss: 2.0405 - accuracy: 0.2456 - val_loss: 2.1453 - val_accuracy: 0.0500\n",
            "Epoch 11/50\n",
            "2/2 [==============================] - 1s 547ms/step - loss: 2.0354 - accuracy: 0.2632 - val_loss: 2.1592 - val_accuracy: 0.0500\n",
            "Epoch 12/50\n",
            "2/2 [==============================] - 1s 547ms/step - loss: 2.0195 - accuracy: 0.2456 - val_loss: 2.1838 - val_accuracy: 0.0500\n",
            "Epoch 13/50\n",
            "2/2 [==============================] - 1s 553ms/step - loss: 2.0002 - accuracy: 0.2281 - val_loss: 2.2193 - val_accuracy: 0.0500\n",
            "Epoch 14/50\n",
            "2/2 [==============================] - 2s 1s/step - loss: 1.9546 - accuracy: 0.2807 - val_loss: 2.3089 - val_accuracy: 0.1000\n",
            "Epoch 15/50\n",
            "2/2 [==============================] - 2s 1s/step - loss: 1.9079 - accuracy: 0.3333 - val_loss: 2.3949 - val_accuracy: 0.1000\n",
            "Epoch 16/50\n",
            "2/2 [==============================] - 1s 574ms/step - loss: 1.8629 - accuracy: 0.4035 - val_loss: 2.3440 - val_accuracy: 0.1500\n",
            "Epoch 17/50\n",
            "2/2 [==============================] - 1s 550ms/step - loss: 1.7678 - accuracy: 0.4211 - val_loss: 2.2343 - val_accuracy: 0.2500\n",
            "Epoch 18/50\n",
            "2/2 [==============================] - 1s 571ms/step - loss: 1.6608 - accuracy: 0.4211 - val_loss: 2.0997 - val_accuracy: 0.2500\n",
            "Epoch 19/50\n",
            "2/2 [==============================] - 1s 542ms/step - loss: 1.5861 - accuracy: 0.5088 - val_loss: 2.0122 - val_accuracy: 0.3000\n",
            "Epoch 20/50\n",
            "2/2 [==============================] - 1s 545ms/step - loss: 1.4212 - accuracy: 0.5088 - val_loss: 1.9185 - val_accuracy: 0.3000\n",
            "Epoch 21/50\n",
            "2/2 [==============================] - 1s 571ms/step - loss: 1.3049 - accuracy: 0.5965 - val_loss: 1.7725 - val_accuracy: 0.4000\n",
            "Epoch 22/50\n",
            "2/2 [==============================] - 1s 569ms/step - loss: 1.1209 - accuracy: 0.7368 - val_loss: 1.6437 - val_accuracy: 0.5500\n",
            "Epoch 23/50\n",
            "2/2 [==============================] - 1s 565ms/step - loss: 1.0669 - accuracy: 0.7018 - val_loss: 1.4446 - val_accuracy: 0.4500\n",
            "Epoch 24/50\n",
            "2/2 [==============================] - 1s 541ms/step - loss: 0.9751 - accuracy: 0.6842 - val_loss: 1.2686 - val_accuracy: 0.6500\n",
            "Epoch 25/50\n",
            "2/2 [==============================] - 2s 1s/step - loss: 0.7898 - accuracy: 0.7719 - val_loss: 1.0195 - val_accuracy: 0.6500\n",
            "Epoch 26/50\n",
            "2/2 [==============================] - 2s 1s/step - loss: 0.7959 - accuracy: 0.8070 - val_loss: 0.9464 - val_accuracy: 0.6500\n",
            "Epoch 27/50\n",
            "2/2 [==============================] - 1s 588ms/step - loss: 0.6661 - accuracy: 0.7544 - val_loss: 1.2297 - val_accuracy: 0.6000\n",
            "Epoch 28/50\n",
            "2/2 [==============================] - 1s 538ms/step - loss: 0.6839 - accuracy: 0.8246 - val_loss: 0.8376 - val_accuracy: 0.7000\n",
            "Epoch 29/50\n",
            "2/2 [==============================] - 1s 557ms/step - loss: 0.5033 - accuracy: 0.8421 - val_loss: 0.7832 - val_accuracy: 0.7500\n",
            "Epoch 30/50\n",
            "2/2 [==============================] - 1s 526ms/step - loss: 0.5209 - accuracy: 0.8772 - val_loss: 0.8155 - val_accuracy: 0.7500\n",
            "Epoch 31/50\n",
            "2/2 [==============================] - 1s 538ms/step - loss: 0.4728 - accuracy: 0.8947 - val_loss: 0.8599 - val_accuracy: 0.7500\n",
            "Epoch 32/50\n",
            "2/2 [==============================] - 1s 549ms/step - loss: 0.4628 - accuracy: 0.8772 - val_loss: 0.9861 - val_accuracy: 0.7000\n",
            "Epoch 33/50\n",
            "2/2 [==============================] - 1s 544ms/step - loss: 0.4081 - accuracy: 0.8772 - val_loss: 1.0329 - val_accuracy: 0.6500\n",
            "Epoch 34/50\n",
            "2/2 [==============================] - 1s 572ms/step - loss: 0.4141 - accuracy: 0.8772 - val_loss: 0.8922 - val_accuracy: 0.7500\n",
            "Epoch 35/50\n",
            "2/2 [==============================] - 1s 532ms/step - loss: 0.3705 - accuracy: 0.8947 - val_loss: 0.6544 - val_accuracy: 0.8000\n",
            "Epoch 36/50\n",
            "2/2 [==============================] - 1s 938ms/step - loss: 0.3335 - accuracy: 0.9474 - val_loss: 0.6286 - val_accuracy: 0.8000\n",
            "Epoch 37/50\n",
            "2/2 [==============================] - 2s 1s/step - loss: 0.2438 - accuracy: 0.9298 - val_loss: 0.6974 - val_accuracy: 0.8000\n",
            "Epoch 38/50\n",
            "2/2 [==============================] - 2s 540ms/step - loss: 0.3285 - accuracy: 0.9123 - val_loss: 0.7002 - val_accuracy: 0.8000\n",
            "Epoch 39/50\n",
            "2/2 [==============================] - 1s 568ms/step - loss: 0.2763 - accuracy: 0.8947 - val_loss: 0.8183 - val_accuracy: 0.8000\n",
            "Epoch 40/50\n",
            "2/2 [==============================] - 1s 559ms/step - loss: 0.3203 - accuracy: 0.8772 - val_loss: 1.0111 - val_accuracy: 0.8000\n",
            "Epoch 41/50\n",
            "2/2 [==============================] - 1s 555ms/step - loss: 0.3400 - accuracy: 0.8947 - val_loss: 1.0560 - val_accuracy: 0.8000\n",
            "Epoch 42/50\n",
            "2/2 [==============================] - 1s 562ms/step - loss: 0.3278 - accuracy: 0.8772 - val_loss: 1.0507 - val_accuracy: 0.8000\n",
            "Epoch 43/50\n",
            "2/2 [==============================] - 1s 579ms/step - loss: 0.2581 - accuracy: 0.9298 - val_loss: 0.9746 - val_accuracy: 0.8000\n",
            "Epoch 44/50\n",
            "2/2 [==============================] - 1s 557ms/step - loss: 0.2544 - accuracy: 0.9123 - val_loss: 0.8541 - val_accuracy: 0.8000\n",
            "Epoch 45/50\n",
            "2/2 [==============================] - 1s 621ms/step - loss: 0.2122 - accuracy: 0.9474 - val_loss: 0.7911 - val_accuracy: 0.8000\n",
            "Epoch 46/50\n",
            "2/2 [==============================] - 1s 542ms/step - loss: 0.1692 - accuracy: 0.9474 - val_loss: 0.7763 - val_accuracy: 0.8000\n",
            "Epoch 47/50\n",
            "2/2 [==============================] - 1s 670ms/step - loss: 0.1647 - accuracy: 0.9298 - val_loss: 0.8603 - val_accuracy: 0.8000\n",
            "Epoch 48/50\n",
            "2/2 [==============================] - 2s 1s/step - loss: 0.3078 - accuracy: 0.8772 - val_loss: 0.8916 - val_accuracy: 0.8000\n",
            "Epoch 49/50\n",
            "2/2 [==============================] - 2s 914ms/step - loss: 0.1695 - accuracy: 0.9474 - val_loss: 0.8938 - val_accuracy: 0.8000\n",
            "Epoch 50/50\n",
            "2/2 [==============================] - 1s 540ms/step - loss: 0.1990 - accuracy: 0.9298 - val_loss: 0.7918 - val_accuracy: 0.8000\n"
          ]
        }
      ]
    },
    {
      "cell_type": "code",
      "source": [
        "def plot_scores(train) :\n",
        "    accuracy = train.history['accuracy']\n",
        "    val_accuracy = train.history['val_accuracy']\n",
        "    epochs = range(len(accuracy))\n",
        "    plt.plot(epochs, accuracy, 'b', label='Training accuracy')\n",
        "    plt.plot(epochs, val_accuracy, 'r', label='Validation accuracy')\n",
        "    plt.title('Scores')\n",
        "    plt.legend()\n",
        "    plt.show()"
      ],
      "metadata": {
        "id": "-dM4LQS3vMT5"
      },
      "execution_count": null,
      "outputs": []
    },
    {
      "cell_type": "code",
      "source": [
        "plot_scores(histo_fit)"
      ],
      "metadata": {
        "colab": {
          "base_uri": "https://localhost:8080/",
          "height": 452
        },
        "id": "yYmu4E5g13vr",
        "outputId": "d3a0e476-b77b-4b3f-cea7-ffac1f49d411"
      },
      "execution_count": null,
      "outputs": [
        {
          "output_type": "display_data",
          "data": {
            "text/plain": [
              "<Figure size 640x480 with 1 Axes>"
            ],
            "image/png": "[encoded data removed]"
          },
          "metadata": {}
        }
      ]
    },
    {
      "cell_type": "code",
      "source": [
        "test_metrics = model.evaluate(X_test, y_test)\n",
        "print(f\"Test Loss: {test_metrics[0]}\")\n",
        "print(f\"Test Accuracy: {test_metrics[1]}\")"
      ],
      "metadata": {
        "id": "OYE677Svtt8c",
        "colab": {
          "base_uri": "https://localhost:8080/"
        },
        "outputId": "5b323a1c-104a-4718-8036-4df8e3af12b4"
      },
      "execution_count": null,
      "outputs": [
        {
          "output_type": "stream",
          "name": "stdout",
          "text": [
            "1/1 [==============================] - 0s 99ms/step - loss: 0.7918 - accuracy: 0.8000\n",
            "Test Loss: 0.7917948365211487\n",
            "Test Accuracy: 0.800000011920929\n"
          ]
        }
      ]
    },
    {
      "cell_type": "code",
      "source": [
        "y_pred = model.predict(X_test)"
      ],
      "metadata": {
        "colab": {
          "base_uri": "https://localhost:8080/"
        },
        "id": "VGKO57PjgAhG",
        "outputId": "50323267-2ca0-4b7d-a0fe-30156e878007"
      },
      "execution_count": null,
      "outputs": [
        {
          "output_type": "stream",
          "name": "stdout",
          "text": [
            "1/1 [==============================] - 2s 2s/step\n"
          ]
        }
      ]
    },
    {
      "cell_type": "code",
      "source": [
        "y_true_labels = [categories[idx] for idx in y_test.argmax(axis=1)]\n",
        "y_pred_labels = [categories[idx] for idx in y_pred.argmax(axis=1)]\n"
      ],
      "metadata": {
        "id": "MWvLEDs4gFmI"
      },
      "execution_count": null,
      "outputs": []
    },
    {
      "cell_type": "code",
      "source": [
        "from sklearn.metrics import classification_report\n",
        "report = classification_report(y_true_labels, y_pred_labels, target_names=categories)\n",
        "print(report)"
      ],
      "metadata": {
        "colab": {
          "base_uri": "https://localhost:8080/"
        },
        "id": "d74b2guJgKGZ",
        "outputId": "48bf22ae-873e-48ee-f161-54f790ca9a72"
      },
      "execution_count": null,
      "outputs": [
        {
          "output_type": "stream",
          "name": "stdout",
          "text": [
            "              precision    recall  f1-score   support\n",
            "\n",
            "          t1       1.00      1.00      1.00         1\n",
            "          t2       1.00      1.00      1.00         3\n",
            "          t3       1.00      1.00      1.00         3\n",
            "          t4       1.00      0.33      0.50         3\n",
            "          t5       1.00      1.00      1.00         2\n",
            "          t6       1.00      0.50      0.67         4\n",
            "          t7       0.60      1.00      0.75         3\n",
            "          t8       0.33      1.00      0.50         1\n",
            "\n",
            "    accuracy                           0.80        20\n",
            "   macro avg       0.87      0.85      0.80        20\n",
            "weighted avg       0.91      0.80      0.80        20\n",
            "\n"
          ]
        }
      ]
    },
    {
      "cell_type": "code",
      "source": [
        "from sklearn.metrics import classification_report\n",
        "\n",
        "report = classification_report(y_true_labels, y_pred_labels, target_names=categories, output_dict=True)\n",
        "\n",
        "\n",
        "for category in categories:\n",
        "    print(f\"Category: {category}\")\n",
        "    print(f\"Precision: {report[category]['precision']}\")\n",
        "    print(f\"Recall: {report[category]['recall']}\")\n",
        "    print(f\"F1-Score: {report[category]['f1-score']}\")\n",
        "    print(f\"Support: {report[category]['support']}\")\n",
        "    print(\"\\n\")\n"
      ],
      "metadata": {
        "colab": {
          "base_uri": "https://localhost:8080/"
        },
        "id": "3fER7yFngNdb",
        "outputId": "d22f6928-5d07-4b96-9744-c7a63c323cee"
      },
      "execution_count": null,
      "outputs": [
        {
          "output_type": "stream",
          "name": "stdout",
          "text": [
            "Category: t1\n",
            "Precision: 1.0\n",
            "Recall: 1.0\n",
            "F1-Score: 1.0\n",
            "Support: 1\n",
            "\n",
            "\n",
            "Category: t2\n",
            "Precision: 1.0\n",
            "Recall: 1.0\n",
            "F1-Score: 1.0\n",
            "Support: 3\n",
            "\n",
            "\n",
            "Category: t3\n",
            "Precision: 1.0\n",
            "Recall: 1.0\n",
            "F1-Score: 1.0\n",
            "Support: 3\n",
            "\n",
            "\n",
            "Category: t4\n",
            "Precision: 1.0\n",
            "Recall: 0.3333333333333333\n",
            "F1-Score: 0.5\n",
            "Support: 3\n",
            "\n",
            "\n",
            "Category: t5\n",
            "Precision: 1.0\n",
            "Recall: 1.0\n",
            "F1-Score: 1.0\n",
            "Support: 2\n",
            "\n",
            "\n",
            "Category: t6\n",
            "Precision: 1.0\n",
            "Recall: 0.5\n",
            "F1-Score: 0.6666666666666666\n",
            "Support: 4\n",
            "\n",
            "\n",
            "Category: t7\n",
            "Precision: 0.6\n",
            "Recall: 1.0\n",
            "F1-Score: 0.7499999999999999\n",
            "Support: 3\n",
            "\n",
            "\n",
            "Category: t8\n",
            "Precision: 0.3333333333333333\n",
            "Recall: 1.0\n",
            "F1-Score: 0.5\n",
            "Support: 1\n",
            "\n",
            "\n"
          ]
        }
      ]
    },
    {
      "cell_type": "code",
      "source": [
        "from sklearn.metrics import classification_report\n",
        "\n",
        "# Assuming you have already generated the classification report\n",
        "report = classification_report(y_true_labels, y_pred_labels, target_names=categories, output_dict=True)\n",
        "\n",
        "# Extract overall metrics\n",
        "overall_metrics = report['weighted avg']\n",
        "\n",
        "# Print overall metrics\n",
        "print(f\"Overall Accuracy: {accuracy_score(y_true_labels, y_pred_labels)}\")\n",
        "print(f\"Overall Precision: {overall_metrics['precision']}\")\n",
        "print(f\"Overall Recall: {overall_metrics['recall']}\")\n",
        "print(f\"Overall F1-Score: {overall_metrics['f1-score']}\")\n"
      ],
      "metadata": {
        "colab": {
          "base_uri": "https://localhost:8080/"
        },
        "id": "NMrGhW-glucx",
        "outputId": "e1997713-e6e6-47af-c69a-abeca6d608ab"
      },
      "execution_count": null,
      "outputs": [
        {
          "output_type": "stream",
          "name": "stdout",
          "text": [
            "Overall Accuracy: 0.8\n",
            "Overall Precision: 0.9066666666666666\n",
            "Overall Recall: 0.8\n",
            "Overall F1-Score: 0.7958333333333333\n"
          ]
        }
      ]
    },
    {
      "cell_type": "code",
      "source": [
        "overall_metrics = report['weighted avg']\n",
        "overall_accuracy = accuracy_score(y_true_labels, y_pred_labels)\n",
        "print(f\"Overall Accuracy: {overall_accuracy * 100:.2f}%\")\n",
        "print(f\"Overall Precision: {overall_metrics['precision'] * 100:.2f}%\")\n",
        "print(f\"Overall Recall: {overall_metrics['recall'] * 100:.2f}%\")\n",
        "print(f\"Overall F1-Score: {overall_metrics['f1-score'] * 100:.2f}%\")\n"
      ],
      "metadata": {
        "colab": {
          "base_uri": "https://localhost:8080/"
        },
        "id": "8j5nnPMJmBJD",
        "outputId": "b3da5b60-af8d-4adf-e4ee-e687f6f9d5a9"
      },
      "execution_count": null,
      "outputs": [
        {
          "output_type": "stream",
          "name": "stdout",
          "text": [
            "Overall Accuracy: 80.00%\n",
            "Overall Precision: 90.67%\n",
            "Overall Recall: 80.00%\n",
            "Overall F1-Score: 79.58%\n"
          ]
        }
      ]
    },
    {
      "cell_type": "code",
      "source": [],
      "metadata": {
        "id": "TKaTRcF7ne3c"
      },
      "execution_count": null,
      "outputs": []
    }
  ]
}